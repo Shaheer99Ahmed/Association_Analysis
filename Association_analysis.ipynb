{
 "cells": [
  {
   "cell_type": "code",
   "execution_count": 2,
   "metadata": {},
   "outputs": [],
   "source": [
    "import warnings\n",
    "warnings.filterwarnings(\"ignore\", category=DeprecationWarning)"
   ]
  },
  {
   "cell_type": "code",
   "execution_count": 2,
   "metadata": {},
   "outputs": [],
   "source": [
    "import pandas as pd\n",
    "import seaborn as sns\n",
    "import matplotlib.pyplot as plt\n",
    "import csv\n",
    "import random\n",
    "\n",
    "from mlxtend.preprocessing import TransactionEncoder\n",
    "from mlxtend.frequent_patterns import apriori, fpmax, fpgrowth\n",
    "from mlxtend.frequent_patterns import association_rules\n"
   ]
  },
  {
   "cell_type": "markdown",
   "metadata": {},
   "source": [
    "### Reading Association data"
   ]
  },
  {
   "cell_type": "code",
   "execution_count": 5,
   "metadata": {},
   "outputs": [],
   "source": [
    "data = []\n",
    "\n",
    "with open(\"Grocery_Items_61.csv\", \"r\") as file_:\n",
    "    csv_reader = csv.reader(file_)\n",
    "\n",
    "    next(csv_reader)\n",
    "\n",
    "    for row in csv_reader:\n",
    "        row = list(filter(lambda x: x != '', row))\n",
    "        data.append(row)"
   ]
  },
  {
   "cell_type": "markdown",
   "metadata": {},
   "source": [
    "### Extracting association rules with 0.01 minimum support and confidence"
   ]
  },
  {
   "cell_type": "code",
   "execution_count": 6,
   "metadata": {},
   "outputs": [],
   "source": [
    "def fit_association_rules(dataset,support,confidence):\n",
    "  encoder = TransactionEncoder()\n",
    "  encoder_ary = encoder.fit(dataset).transform(dataset)\n",
    "  df = pd.DataFrame(encoder_ary, columns=encoder.columns_)\n",
    "  frequent_itemsets = fpgrowth(df, min_support=support, use_colnames=True)\n",
    "  assoc_rules = association_rules(frequent_itemsets, metric=\"confidence\", min_threshold=confidence)\n",
    "  return assoc_rules"
   ]
  },
  {
   "cell_type": "code",
   "execution_count": 7,
   "metadata": {},
   "outputs": [],
   "source": [
    "assoc_rules = fit_association_rules(data,0.01,0.1)"
   ]
  },
  {
   "cell_type": "code",
   "execution_count": 8,
   "metadata": {},
   "outputs": [
    {
     "data": {
      "text/html": [
       "<div>\n",
       "<style scoped>\n",
       "    .dataframe tbody tr th:only-of-type {\n",
       "        vertical-align: middle;\n",
       "    }\n",
       "\n",
       "    .dataframe tbody tr th {\n",
       "        vertical-align: top;\n",
       "    }\n",
       "\n",
       "    .dataframe thead th {\n",
       "        text-align: right;\n",
       "    }\n",
       "</style>\n",
       "<table border=\"1\" class=\"dataframe\">\n",
       "  <thead>\n",
       "    <tr style=\"text-align: right;\">\n",
       "      <th></th>\n",
       "      <th>antecedents</th>\n",
       "      <th>consequents</th>\n",
       "      <th>antecedent support</th>\n",
       "      <th>consequent support</th>\n",
       "      <th>support</th>\n",
       "      <th>confidence</th>\n",
       "      <th>lift</th>\n",
       "      <th>leverage</th>\n",
       "      <th>conviction</th>\n",
       "      <th>zhangs_metric</th>\n",
       "    </tr>\n",
       "  </thead>\n",
       "  <tbody>\n",
       "    <tr>\n",
       "      <th>0</th>\n",
       "      <td>(other vegetables)</td>\n",
       "      <td>(whole milk)</td>\n",
       "      <td>0.122500</td>\n",
       "      <td>0.155875</td>\n",
       "      <td>0.015625</td>\n",
       "      <td>0.127551</td>\n",
       "      <td>0.818290</td>\n",
       "      <td>-0.003470</td>\n",
       "      <td>0.967535</td>\n",
       "      <td>-0.201954</td>\n",
       "    </tr>\n",
       "    <tr>\n",
       "      <th>1</th>\n",
       "      <td>(whole milk)</td>\n",
       "      <td>(other vegetables)</td>\n",
       "      <td>0.155875</td>\n",
       "      <td>0.122500</td>\n",
       "      <td>0.015625</td>\n",
       "      <td>0.100241</td>\n",
       "      <td>0.818290</td>\n",
       "      <td>-0.003470</td>\n",
       "      <td>0.975261</td>\n",
       "      <td>-0.208275</td>\n",
       "    </tr>\n",
       "    <tr>\n",
       "      <th>2</th>\n",
       "      <td>(rolls/buns)</td>\n",
       "      <td>(whole milk)</td>\n",
       "      <td>0.107625</td>\n",
       "      <td>0.155875</td>\n",
       "      <td>0.013500</td>\n",
       "      <td>0.125436</td>\n",
       "      <td>0.804719</td>\n",
       "      <td>-0.003276</td>\n",
       "      <td>0.965195</td>\n",
       "      <td>-0.213798</td>\n",
       "    </tr>\n",
       "    <tr>\n",
       "      <th>3</th>\n",
       "      <td>(soda)</td>\n",
       "      <td>(whole milk)</td>\n",
       "      <td>0.097375</td>\n",
       "      <td>0.155875</td>\n",
       "      <td>0.011250</td>\n",
       "      <td>0.115533</td>\n",
       "      <td>0.741188</td>\n",
       "      <td>-0.003928</td>\n",
       "      <td>0.954388</td>\n",
       "      <td>-0.278944</td>\n",
       "    </tr>\n",
       "    <tr>\n",
       "      <th>4</th>\n",
       "      <td>(yogurt)</td>\n",
       "      <td>(whole milk)</td>\n",
       "      <td>0.086250</td>\n",
       "      <td>0.155875</td>\n",
       "      <td>0.010125</td>\n",
       "      <td>0.117391</td>\n",
       "      <td>0.753112</td>\n",
       "      <td>-0.003319</td>\n",
       "      <td>0.956398</td>\n",
       "      <td>-0.264039</td>\n",
       "    </tr>\n",
       "  </tbody>\n",
       "</table>\n",
       "</div>"
      ],
      "text/plain": [
       "          antecedents         consequents  antecedent support  \\\n",
       "0  (other vegetables)        (whole milk)            0.122500   \n",
       "1        (whole milk)  (other vegetables)            0.155875   \n",
       "2        (rolls/buns)        (whole milk)            0.107625   \n",
       "3              (soda)        (whole milk)            0.097375   \n",
       "4            (yogurt)        (whole milk)            0.086250   \n",
       "\n",
       "   consequent support   support  confidence      lift  leverage  conviction  \\\n",
       "0            0.155875  0.015625    0.127551  0.818290 -0.003470    0.967535   \n",
       "1            0.122500  0.015625    0.100241  0.818290 -0.003470    0.975261   \n",
       "2            0.155875  0.013500    0.125436  0.804719 -0.003276    0.965195   \n",
       "3            0.155875  0.011250    0.115533  0.741188 -0.003928    0.954388   \n",
       "4            0.155875  0.010125    0.117391  0.753112 -0.003319    0.956398   \n",
       "\n",
       "   zhangs_metric  \n",
       "0      -0.201954  \n",
       "1      -0.208275  \n",
       "2      -0.213798  \n",
       "3      -0.278944  \n",
       "4      -0.264039  "
      ]
     },
     "execution_count": 8,
     "metadata": {},
     "output_type": "execute_result"
    }
   ],
   "source": [
    "assoc_rules"
   ]
  },
  {
   "cell_type": "code",
   "execution_count": null,
   "metadata": {},
   "outputs": [],
   "source": []
  }
 ],
 "metadata": {
  "kernelspec": {
   "display_name": "deep-learning",
   "language": "python",
   "name": "python3"
  },
  "language_info": {
   "codemirror_mode": {
    "name": "ipython",
    "version": 3
   },
   "file_extension": ".py",
   "mimetype": "text/x-python",
   "name": "python",
   "nbconvert_exporter": "python",
   "pygments_lexer": "ipython3",
   "version": "3.12.1"
  }
 },
 "nbformat": 4,
 "nbformat_minor": 2
}
